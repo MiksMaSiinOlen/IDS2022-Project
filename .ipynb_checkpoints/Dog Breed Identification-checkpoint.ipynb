{
 "cells": [
  {
   "cell_type": "code",
   "execution_count": 14,
   "id": "ffbf932b",
   "metadata": {},
   "outputs": [],
   "source": [
    "pd.set_option('display.max_rows', 200)"
   ]
  },
  {
   "cell_type": "code",
   "execution_count": 11,
   "id": "32ec1187",
   "metadata": {},
   "outputs": [],
   "source": [
    "import pandas as pd"
   ]
  },
  {
   "cell_type": "code",
   "execution_count": 12,
   "id": "697bc77e",
   "metadata": {
    "scrolled": true
   },
   "outputs": [
    {
     "data": {
      "text/html": [
       "<div>\n",
       "<style scoped>\n",
       "    .dataframe tbody tr th:only-of-type {\n",
       "        vertical-align: middle;\n",
       "    }\n",
       "\n",
       "    .dataframe tbody tr th {\n",
       "        vertical-align: top;\n",
       "    }\n",
       "\n",
       "    .dataframe thead th {\n",
       "        text-align: right;\n",
       "    }\n",
       "</style>\n",
       "<table border=\"1\" class=\"dataframe\">\n",
       "  <thead>\n",
       "    <tr style=\"text-align: right;\">\n",
       "      <th></th>\n",
       "      <th>id</th>\n",
       "      <th>breed</th>\n",
       "    </tr>\n",
       "  </thead>\n",
       "  <tbody>\n",
       "    <tr>\n",
       "      <th>0</th>\n",
       "      <td>000bec180eb18c7604dcecc8fe0dba07</td>\n",
       "      <td>boston_bull</td>\n",
       "    </tr>\n",
       "    <tr>\n",
       "      <th>1</th>\n",
       "      <td>001513dfcb2ffafc82cccf4d8bbaba97</td>\n",
       "      <td>dingo</td>\n",
       "    </tr>\n",
       "    <tr>\n",
       "      <th>2</th>\n",
       "      <td>001cdf01b096e06d78e9e5112d419397</td>\n",
       "      <td>pekinese</td>\n",
       "    </tr>\n",
       "    <tr>\n",
       "      <th>3</th>\n",
       "      <td>00214f311d5d2247d5dfe4fe24b2303d</td>\n",
       "      <td>bluetick</td>\n",
       "    </tr>\n",
       "    <tr>\n",
       "      <th>4</th>\n",
       "      <td>0021f9ceb3235effd7fcde7f7538ed62</td>\n",
       "      <td>golden_retriever</td>\n",
       "    </tr>\n",
       "  </tbody>\n",
       "</table>\n",
       "</div>"
      ],
      "text/plain": [
       "                                 id             breed\n",
       "0  000bec180eb18c7604dcecc8fe0dba07       boston_bull\n",
       "1  001513dfcb2ffafc82cccf4d8bbaba97             dingo\n",
       "2  001cdf01b096e06d78e9e5112d419397          pekinese\n",
       "3  00214f311d5d2247d5dfe4fe24b2303d          bluetick\n",
       "4  0021f9ceb3235effd7fcde7f7538ed62  golden_retriever"
      ]
     },
     "execution_count": 12,
     "metadata": {},
     "output_type": "execute_result"
    }
   ],
   "source": [
    "# reading in the data\n",
    "labels = pd.read_csv('labels.csv')\n",
    "labels.head()"
   ]
  },
  {
   "cell_type": "code",
   "execution_count": 18,
   "id": "88d14530",
   "metadata": {},
   "outputs": [
    {
     "name": "stdout",
     "output_type": "stream",
     "text": [
      "Int64Index([], dtype='int64')\n",
      "Int64Index([], dtype='int64')\n"
     ]
    }
   ],
   "source": [
    "# checking whether the dataframe has empty values\n",
    "print(labels[labels['id'] == ''].index)\n",
    "print(labels[labels['breed'] == ''].index)"
   ]
  },
  {
   "cell_type": "code",
   "execution_count": 17,
   "id": "6ecc9a77",
   "metadata": {},
   "outputs": [
    {
     "name": "stdout",
     "output_type": "stream",
     "text": [
      "scottish_deerhound                126\n",
      "maltese_dog                       117\n",
      "afghan_hound                      116\n",
      "entlebucher                       115\n",
      "bernese_mountain_dog              114\n",
      "shih-tzu                          112\n",
      "great_pyrenees                    111\n",
      "pomeranian                        111\n",
      "basenji                           110\n",
      "samoyed                           109\n",
      "airedale                          107\n",
      "tibetan_terrier                   107\n",
      "leonberg                          106\n",
      "cairn                             106\n",
      "beagle                            105\n",
      "japanese_spaniel                  105\n",
      "australian_terrier                102\n",
      "blenheim_spaniel                  102\n",
      "miniature_pinscher                102\n",
      "irish_wolfhound                   101\n",
      "lakeland_terrier                   99\n",
      "saluki                             99\n",
      "papillon                           96\n",
      "norwegian_elkhound                 95\n",
      "whippet                            95\n",
      "siberian_husky                     95\n",
      "pug                                94\n",
      "chow                               93\n",
      "italian_greyhound                  92\n",
      "pembroke                           92\n",
      "ibizan_hound                       91\n",
      "border_terrier                     91\n",
      "newfoundland                       91\n",
      "lhasa                              90\n",
      "silky_terrier                      90\n",
      "dandie_dinmont                     89\n",
      "bedlington_terrier                 89\n",
      "sealyham_terrier                   88\n",
      "irish_setter                       88\n",
      "rhodesian_ridgeback                88\n",
      "old_english_sheepdog               87\n",
      "collie                             87\n",
      "boston_bull                        87\n",
      "schipperke                         86\n",
      "bouvier_des_flandres               86\n",
      "kelpie                             86\n",
      "english_foxhound                   86\n",
      "african_hunting_dog                86\n",
      "bloodhound                         85\n",
      "bluetick                           85\n",
      "weimaraner                         85\n",
      "saint_bernard                      84\n",
      "labrador_retriever                 84\n",
      "english_setter                     83\n",
      "chesapeake_bay_retriever           83\n",
      "norfolk_terrier                    83\n",
      "scotch_terrier                     82\n",
      "groenendael                        82\n",
      "wire-haired_fox_terrier            82\n",
      "basset                             82\n",
      "kerry_blue_terrier                 82\n",
      "irish_terrier                      82\n",
      "yorkshire_terrier                  82\n",
      "greater_swiss_mountain_dog         82\n",
      "malamute                           81\n",
      "gordon_setter                      81\n",
      "keeshond                           81\n",
      "west_highland_white_terrier        81\n",
      "dingo                              80\n",
      "toy_poodle                         80\n",
      "mexican_hairless                   80\n",
      "clumber                            80\n",
      "affenpinscher                      80\n",
      "standard_poodle                    79\n",
      "miniature_poodle                   79\n",
      "staffordshire_bullterrier          79\n",
      "toy_terrier                        79\n",
      "welsh_springer_spaniel             79\n",
      "irish_water_spaniel                78\n",
      "appenzeller                        78\n",
      "sussex_spaniel                     78\n",
      "miniature_schnauzer                78\n",
      "norwich_terrier                    78\n",
      "black-and-tan_coonhound            77\n",
      "dhole                              76\n",
      "shetland_sheepdog                  76\n",
      "rottweiler                         76\n",
      "cardigan                           76\n",
      "bull_mastiff                       75\n",
      "boxer                              75\n",
      "english_springer                   75\n",
      "german_short-haired_pointer        75\n",
      "pekinese                           75\n",
      "great_dane                         75\n",
      "borzoi                             75\n",
      "american_staffordshire_terrier     74\n",
      "doberman                           74\n",
      "cocker_spaniel                     74\n",
      "malinois                           73\n",
      "brittany_spaniel                   73\n",
      "standard_schnauzer                 72\n",
      "curly-coated_retriever             72\n",
      "flat-coated_retriever              72\n",
      "border_collie                      72\n",
      "redbone                            72\n",
      "kuvasz                             71\n",
      "chihuahua                          71\n",
      "soft-coated_wheaten_terrier        71\n",
      "french_bulldog                     70\n",
      "vizsla                             70\n",
      "otterhound                         69\n",
      "german_shepherd                    69\n",
      "walker_hound                       69\n",
      "tibetan_mastiff                    69\n",
      "giant_schnauzer                    69\n",
      "golden_retriever                   67\n",
      "brabancon_griffon                  67\n",
      "komondor                           67\n",
      "eskimo_dog                         66\n",
      "briard                             66\n",
      "Name: breed, dtype: int64\n"
     ]
    }
   ],
   "source": [
    "occurrences = labels['breed'].value_counts()\n",
    "print(occurrences)"
   ]
  },
  {
   "cell_type": "code",
   "execution_count": 15,
   "id": "a39d7104",
   "metadata": {},
   "outputs": [
    {
     "data": {
      "text/html": [
       "<div>\n",
       "<style scoped>\n",
       "    .dataframe tbody tr th:only-of-type {\n",
       "        vertical-align: middle;\n",
       "    }\n",
       "\n",
       "    .dataframe tbody tr th {\n",
       "        vertical-align: top;\n",
       "    }\n",
       "\n",
       "    .dataframe thead th {\n",
       "        text-align: right;\n",
       "    }\n",
       "</style>\n",
       "<table border=\"1\" class=\"dataframe\">\n",
       "  <thead>\n",
       "    <tr style=\"text-align: right;\">\n",
       "      <th></th>\n",
       "      <th>id</th>\n",
       "      <th>breed</th>\n",
       "    </tr>\n",
       "  </thead>\n",
       "  <tbody>\n",
       "    <tr>\n",
       "      <th>27</th>\n",
       "      <td>00b7d114bc5166a629a3cc03d9329120</td>\n",
       "      <td>irish_water_spaniel</td>\n",
       "    </tr>\n",
       "  </tbody>\n",
       "</table>\n",
       "</div>"
      ],
      "text/plain": [
       "                                  id                breed\n",
       "27  00b7d114bc5166a629a3cc03d9329120  irish_water_spaniel"
      ]
     },
     "execution_count": 15,
     "metadata": {},
     "output_type": "execute_result"
    }
   ],
   "source": [
    "# checking the label of an image which contains more than one dog breed\n",
    "labels[labels['id'] == '00b7d114bc5166a629a3cc03d9329120']"
   ]
  }
 ],
 "metadata": {
  "kernelspec": {
   "display_name": "Python 3 (ipykernel)",
   "language": "python",
   "name": "python3"
  },
  "language_info": {
   "codemirror_mode": {
    "name": "ipython",
    "version": 3
   },
   "file_extension": ".py",
   "mimetype": "text/x-python",
   "name": "python",
   "nbconvert_exporter": "python",
   "pygments_lexer": "ipython3",
   "version": "3.10.6"
  }
 },
 "nbformat": 4,
 "nbformat_minor": 5
}
